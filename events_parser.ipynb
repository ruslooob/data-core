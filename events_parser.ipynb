{
 "cells": [
  {
   "cell_type": "code",
   "id": "initial_id",
   "metadata": {
    "collapsed": true,
    "ExecuteTime": {
     "end_time": "2025-10-09T17:43:21.928599Z",
     "start_time": "2025-10-09T17:43:21.925068Z"
    }
   },
   "source": [
    "import re\n",
    "from datetime import date\n",
    "\n",
    "import pandas as pd\n",
    "import glob\n",
    "import os"
   ],
   "outputs": [],
   "execution_count": 84
  },
  {
   "metadata": {
    "ExecuteTime": {
     "end_time": "2025-10-09T17:43:21.945422Z",
     "start_time": "2025-10-09T17:43:21.934189Z"
    }
   },
   "cell_type": "code",
   "source": [
    "def parse_events_file(file_path: str):\n",
    "    \"\"\"Парсит файл событий, сохраняет в структурированный csv-файл и возвращает DataFrame.\"\"\"\n",
    "    year_match = re.search(r'(\\d{4})', file_path)\n",
    "    if not year_match:\n",
    "        raise ValueError(\"Не удалось определить год из имени файла.\")\n",
    "    year = int(year_match.group(1))\n",
    "\n",
    "    with open(file_path, \"r\", encoding=\"utf-8\") as f:\n",
    "        lines = [line.strip() for line in f if line.strip()]\n",
    "\n",
    "    MONTHS = {\n",
    "        \"января\": 1, \"февраля\": 2, \"марта\": 3, \"апреля\": 4,\n",
    "        \"мая\": 5, \"июня\": 6, \"июля\": 7, \"августа\": 8,\n",
    "        \"сентября\": 9, \"октября\": 10, \"ноября\": 11, \"декабря\": 12\n",
    "    }\n",
    "\n",
    "    pattern = re.compile(\n",
    "        r\"^(\\d{1,2})(?:-(\\d{1,2}))?\\s+([а-яА-ЯёЁ]+)\"  #  \"20-27 января\"\n",
    "        r\"(?:-(\\d{1,2})\\s+([а-яА-ЯёЁ]+))?\"  #  \"29-1 марта\"\n",
    "        r\"\\s*-\\s*(.+)$\"  #  \"20 января - событие\"\n",
    "    )\n",
    "\n",
    "    rows = []\n",
    "\n",
    "    for line in lines:\n",
    "        m = pattern.match(line)\n",
    "        if m:\n",
    "            d1, d2, mon1, d3, mon2, event = m.groups()\n",
    "\n",
    "            date_start_full = None\n",
    "            date_end_full = None\n",
    "\n",
    "            try:\n",
    "                month1 = MONTHS.get(mon1.lower())\n",
    "\n",
    "                if d3 and mon2:  # случай \"29 февраля – 1 марта\"\n",
    "                    month2 = MONTHS.get(mon2.lower())\n",
    "                    date_start_full = date(year, month1, int(d1))\n",
    "                    date_end_full = date(year, month2, int(d3))\n",
    "\n",
    "                elif d2:  # \"20–27 января\"\n",
    "                    date_start_full = date(year, month1, int(d1))\n",
    "                    date_end_full = date(year, month1, int(d2))\n",
    "\n",
    "                else:  # \"20 января\"\n",
    "                    date_start_full = date(year, month1, int(d1))\n",
    "\n",
    "                rows.append({\n",
    "                    \"date_start\": date_start_full,\n",
    "                    \"date_end\": date_end_full,\n",
    "                    \"event\": event.capitalize()\n",
    "                })\n",
    "\n",
    "            except Exception as e:\n",
    "                print(f'Ошибка при обработке строки: {line}. {e}')\n",
    "\n",
    "        else:\n",
    "            print(f'Не удалось распознать строку: {line}')\n",
    "\n",
    "    df = pd.DataFrame(rows)\n",
    "    df[\"date_start\"] = pd.to_datetime(df[\"date_start\"])\n",
    "    df[\"date_end\"] = pd.to_datetime(df[\"date_end\"])\n",
    "    output_path = re.sub(r'\\.txt$', '.csv', file_path)\n",
    "    df.to_csv(output_path, index=False, encoding=\"utf-8-sig\")\n",
    "\n",
    "    print(f\"✅ Сохранено {len(df)} событий в {output_path}\")\n",
    "    return df"
   ],
   "id": "3279879934afe6b1",
   "outputs": [],
   "execution_count": 85
  },
  {
   "metadata": {
    "ExecuteTime": {
     "end_time": "2025-10-09T17:53:23.111941Z",
     "start_time": "2025-10-09T17:53:23.072680Z"
    }
   },
   "cell_type": "code",
   "source": [
    "raw_event_files = glob.glob(os.path.join('./data', \"*.txt\"))\n",
    "\n",
    "for file_path in raw_event_files:\n",
    "    parse_events_file(file_path)"
   ],
   "id": "129e6e91af437048",
   "outputs": [
    {
     "name": "stdout",
     "output_type": "stream",
     "text": [
      "✅ Сохранено 305 событий в ./data\\2000_events.csv\n",
      "✅ Сохранено 238 событий в ./data\\2001_events.csv\n",
      "✅ Сохранено 215 событий в ./data\\2002_events.csv\n",
      "✅ Сохранено 192 событий в ./data\\2003_events.csv\n",
      "✅ Сохранено 138 событий в ./data\\2004_events.csv\n",
      "✅ Сохранено 173 событий в ./data\\2005_events.csv\n"
     ]
    }
   ],
   "execution_count": 87
  }
 ],
 "metadata": {
  "kernelspec": {
   "display_name": "Python 3",
   "language": "python",
   "name": "python3"
  },
  "language_info": {
   "codemirror_mode": {
    "name": "ipython",
    "version": 2
   },
   "file_extension": ".py",
   "mimetype": "text/x-python",
   "name": "python",
   "nbconvert_exporter": "python",
   "pygments_lexer": "ipython2",
   "version": "2.7.6"
  }
 },
 "nbformat": 4,
 "nbformat_minor": 5
}
